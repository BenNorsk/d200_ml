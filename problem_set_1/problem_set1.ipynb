{
 "cells": [
  {
   "cell_type": "markdown",
   "metadata": {},
   "source": [
    "# Problem Set 1"
   ]
  },
  {
   "cell_type": "markdown",
   "metadata": {},
   "source": [
    "### 0. Initialise"
   ]
  },
  {
   "cell_type": "code",
   "execution_count": 1,
   "metadata": {},
   "outputs": [],
   "source": [
    "# Initialise\n",
    "import numpy as np\n",
    "import matplotlib.pyplot as plt\n",
    "from sklearn.linear_model import SGDRegressor\n",
    "import warnings\n",
    "import ipywidgets as widgets\n",
    "from ipywidgets import interactive\n",
    "warnings.filterwarnings(\"ignore\")"
   ]
  },
  {
   "cell_type": "markdown",
   "metadata": {},
   "source": [
    "### 1. Problem\n",
    "\n",
    "**a.** Write down the mean-squared error function and its gradient with respect to the parameters.\n",
    "![Maths Image](math.jpeg)\n",
    "\n",
    "**b.** Implement the loss function loss(X,y,theta) and gradient function gradient(X,y,theta) in Python.\n"
   ]
  },
  {
   "cell_type": "code",
   "execution_count": 2,
   "metadata": {},
   "outputs": [],
   "source": [
    "def loss(X, y, theta):\n",
    "    \"\"\"\n",
    "    Compute the loss function.\n",
    "    \n",
    "    Parameters\n",
    "    ----------\n",
    "    X : numpy array\n",
    "        The feature matrix.\n",
    "    y : numpy array\n",
    "        The target vector.\n",
    "    theta : numpy array\n",
    "    \n",
    "    Returns\n",
    "    -------\n",
    "    float\n",
    "        The loss value.\n",
    "    \"\"\"\n",
    "    n  = len(y)\n",
    "    loss = (1 / n) * (X @ theta - y).T @ (X @ theta - y)\n",
    "    return loss\n",
    "\n",
    "\n",
    "# 1.b.2\n",
    "def gradient(X, y, theta):\n",
    "    \"\"\"\n",
    "    Compute the gradient of the loss function.\n",
    "    \n",
    "    Parameters\n",
    "    ----------\n",
    "    X : numpy array\n",
    "        The feature matrix.\n",
    "    y : numpy array\n",
    "        The target vector.\n",
    "    theta : numpy array\n",
    "    \n",
    "    Returns\n",
    "    -------\n",
    "    numpy array\n",
    "        The gradient vector.\n",
    "    \"\"\"\n",
    "    n = len(y)\n",
    "    gradient = (2 / n) * X.T @ (X @ theta -y)\n",
    "    return gradient"
   ]
  },
  {
   "cell_type": "markdown",
   "metadata": {},
   "source": [
    "### 2. Problem\n",
    "\n",
    "**a.** Implement the simple gradient descent algorithm."
   ]
  },
  {
   "cell_type": "code",
   "execution_count": 3,
   "metadata": {},
   "outputs": [],
   "source": [
    "def gradient_descent(X, y, theta_init, alpha, max_steps, precision):\n",
    "    \"\"\"\n",
    "    Parameters\n",
    "    ----------\n",
    "    X : numpy array\n",
    "        The feature matrix.\n",
    "    y : numpy array\n",
    "        The target vector.\n",
    "    theta_init : numpy array\n",
    "        The initial value of the parameter vector.\n",
    "    alpha : float\n",
    "        The learning rate.\n",
    "    max_steps : int\n",
    "        The maximum number of steps.\n",
    "    precision : float\n",
    "        The precision value.\n",
    "    \"\"\"\n",
    "    history_theta = theta_init # Column vector\n",
    "    history_loss = [loss(X, y, theta_init)]\n",
    "    theta = theta_init\n",
    "\n",
    "    for i in range(max_steps):\n",
    "        grad = gradient(X, y, theta)\n",
    "        old_theta = theta\n",
    "        theta = theta - alpha * grad\n",
    "        history_theta = np.column_stack((history_theta, theta))\n",
    "        history_loss.append(loss(X, y, theta))\n",
    "\n",
    "        if np.linalg.norm(theta - old_theta) < precision:\n",
    "            break\n",
    "    \n",
    "    return history_theta, history_loss\n",
    "\n",
    "def plot_loss(history_loss, title='Loss (MSE)'):\n",
    "    \"\"\"\n",
    "    Plot the loss function.\n",
    "    \n",
    "    Parameters\n",
    "    ----------\n",
    "    history_loss : list\n",
    "        The list of loss values.\n",
    "    \"\"\"\n",
    "    plt.plot(history_loss)\n",
    "    plt.xlabel('Iteration')\n",
    "    plt.ylabel(title)\n",
    "    plt.savefig(f'{title}.png')"
   ]
  },
  {
   "cell_type": "code",
   "execution_count": 4,
   "metadata": {},
   "outputs": [
    {
     "name": "stdout",
     "output_type": "stream",
     "text": [
      "Theta from custom gradient descent:\n",
      "[1.56169019 0.56492035]\n"
     ]
    },
    {
     "data": {
      "image/png": "[encoded data removed]",
      "text/plain": [
       "<Figure size 640x480 with 1 Axes>"
      ]
     },
     "metadata": {},
     "output_type": "display_data"
    }
   ],
   "source": [
    "# Initialise a two dimensional feature matrix X with a 1-vector-column and 100 random values.\n",
    "X = np.column_stack((np.ones(100), np.random.rand(100) + 3))\n",
    "\n",
    "y = X[:, 1] + np.random.normal(0, 0.5, 100)\n",
    "theta = np.array([2, 2])\n",
    "\n",
    "# 2.a.\n",
    "history_theta, history_loss = gradient_descent(X, y, theta, 0.01, 100, 1e-6)\n",
    "print(\"Theta from custom gradient descent:\")\n",
    "print(history_theta[:, -1])\n",
    "# Select the last column of history_theta\n",
    "\n",
    "# Plot the loss function\n",
    "plot_loss(history_loss)\n"
   ]
  },
  {
   "cell_type": "markdown",
   "metadata": {},
   "source": [
    "**b.** Compare the resulting estimates with those generated by scipy.stats, statsmodels, or sklearn. Plot the best-fitting line along with a scatterplot of the data.\n"
   ]
  },
  {
   "cell_type": "code",
   "execution_count": 5,
   "metadata": {},
   "outputs": [
    {
     "name": "stdout",
     "output_type": "stream",
     "text": [
      "Theta from SGDRegressor (without intercept):\n",
      "[[0.23492188]\n",
      " [0.95727153]]\n",
      "\n",
      "    Insight: The resulting coefficients can be quite different,\n",
      "    especially when one chooses a bad initial theta.\n",
      "    \n"
     ]
    },
    {
     "data": {
      "image/png": "[encoded data removed]",
      "text/plain": [
       "<Figure size 640x480 with 1 Axes>"
      ]
     },
     "metadata": {},
     "output_type": "display_data"
    }
   ],
   "source": [
    "def get_fitted_values(X, theta):\n",
    "    y_fitted = X @ theta\n",
    "    return y_fitted\n",
    "\n",
    "\n",
    "def plot_fitted_values(X, y, y_fitted):\n",
    "    plt.scatter(X[:, 1], y, label='True values')\n",
    "    for name, values in y_fitted.items():\n",
    "        plt.plot(X[:, 1], values, label=name)\n",
    "    plt.xlabel('X1')\n",
    "    plt.ylabel('y')\n",
    "    plt.title('Fitted values')\n",
    "    plt.legend()\n",
    "    plt.savefig('fitted_values.png')\n",
    "\n",
    "# Compare with sklearn's gradient descent\n",
    "sgd = SGDRegressor(alpha=0.01, max_iter=1000, tol=1e-6, learning_rate=\"constant\", eta0=0.01, fit_intercept=False)\n",
    "sgd.fit(X, y.ravel())  # Convert y to 1D\n",
    "\n",
    "# Get theta (only coefficients, no intercept)\n",
    "theta_sgd = sgd.coef_.reshape(-1, 1)  # Now theta only contains slope\n",
    "\n",
    "print(\"Theta from SGDRegressor (without intercept):\")\n",
    "print(theta_sgd)\n",
    "\n",
    "print(\"\"\"\n",
    "    Insight: The resulting coefficients can be quite different,\n",
    "    especially when one chooses a bad initial theta.\n",
    "    \"\"\")\n",
    "\n",
    "# Plot the resulting OLS\n",
    "fitted_values = {\"Custom gradient descent\": get_fitted_values(X, history_theta[:, -1]), \n",
    "                \"SGDRegressor\": get_fitted_values(X, theta_sgd)}\n",
    "\n",
    "plot_fitted_values(X, y, fitted_values)"
   ]
  },
  {
   "cell_type": "markdown",
   "metadata": {},
   "source": [
    "### 3. Problem\n",
    "Visualize the loss surface, using the provided helper functions.\n",
    "\n",
    "*Note: I will not use these functions, given that they are a bit unreadable from the pdf.*"
   ]
  },
  {
   "cell_type": "code",
   "execution_count": 6,
   "metadata": {},
   "outputs": [
    {
     "data": {
      "application/vnd.jupyter.widget-view+json": {
       "model_id": "815cd84801034c27bd38ed9ea92a58f8",
       "version_major": 2,
       "version_minor": 0
      },
      "text/plain": [
       "interactive(children=(FloatSlider(value=0.01, description='learning_rate', max=0.1, min=0.01, step=0.01), Outp…"
      ]
     },
     "metadata": {},
     "output_type": "display_data"
    }
   ],
   "source": [
    "\n",
    "def plot_loss_surface(history_loss, history_theta, grid_max=3, grid_min=0):\n",
    "    # Generate theta values from (0,0) to (10,10) with step 0.1\n",
    "    theta0_vals = np.arange(0, grid_max + 0.1, grid_min + 0.1)\n",
    "    theta1_vals = np.arange(0, grid_max + 0.1, grid_min + 0.1)\n",
    "    T0, T1 = np.meshgrid(theta0_vals, theta1_vals)  # Meshgrid for theta0, theta1\n",
    "\n",
    "    # Compute loss for each (theta0, theta1) pair\n",
    "    Z = np.zeros(T0.shape)\n",
    "    # Compute the loss for each (theta0, theta1) pair\n",
    "    for i in range(T0.shape[0]):\n",
    "        for j in range(T0.shape[1]):\n",
    "            theta = np.array([T0[i, j], T1[i, j]])  # Correct shape: 1D vector\n",
    "            Z[i, j] = loss(X, y, theta)  # Compute loss for this theta pair\n",
    "\n",
    "\n",
    "    # Add the history_loss as a third dimension\n",
    "    # Convert list to NumPy array\n",
    "    history_loss = np.array(history_loss)\n",
    "\n",
    "    # Stack along the first axis\n",
    "    theta_path = np.vstack((history_theta, history_loss.reshape(1, -1)))\n",
    "    theta0_path, theta1_path, loss_path = theta_path\n",
    "\n",
    "    # Plot 3D Loss Surface\n",
    "    fig = plt.figure(figsize=(10, 7))\n",
    "    ax = fig.add_subplot(111, projection='3d')\n",
    "    ax.plot_surface(T0, T1, Z, cmap='viridis', alpha=0.7)  # Loss surface\n",
    "    ax.plot(theta0_path, theta1_path, loss_path, color='r', linewidth=2, label=\"Gradient Descent Path\")\n",
    "\n",
    "    # Labels and View Angle\n",
    "    ax.set_xlabel(r'$\\theta_0$')\n",
    "    ax.set_ylabel(r'$\\theta_1$')\n",
    "    ax.set_zlabel('Loss')\n",
    "    ax.set_title(\"3D Loss Surface with Gradient Descent Path\")\n",
    "    ax.view_init(30, 120)  # Adjust angle for better view\n",
    "    ax.legend()\n",
    "\n",
    "    plt.show()\n",
    "\n",
    "X = np.column_stack((np.ones(100), np.random.rand(100) + 3))\n",
    "\n",
    "y = X[:, 1] + np.random.normal(0, 0.5, 100)\n",
    "theta = np.array([2, 2])\n",
    "learning_rate = 0.01\n",
    "\n",
    "# 2.a.\n",
    "\n",
    "def interactive_plot(learning_rate):\n",
    "    history_theta, history_loss = gradient_descent(X, y, theta, learning_rate, 1000, 1e-6)    \n",
    "    plot_loss_surface(history_loss, history_theta)\n",
    "\n",
    "interactive_plot = interactive(\n",
    "    interactive_plot,\n",
    "    learning_rate=widgets.FloatSlider(min=0.01, max=0.1, step=0.01, value=0.01),\n",
    ")\n",
    "\n",
    "# Display the interactive plot\n",
    "display(interactive_plot)"
   ]
  }
 ],
 "metadata": {
  "kernelspec": {
   "display_name": "base",
   "language": "python",
   "name": "python3"
  },
  "language_info": {
   "codemirror_mode": {
    "name": "ipython",
    "version": 3
   },
   "file_extension": ".py",
   "mimetype": "text/x-python",
   "name": "python",
   "nbconvert_exporter": "python",
   "pygments_lexer": "ipython3",
   "version": "3.9.13"
  }
 },
 "nbformat": 4,
 "nbformat_minor": 2
}
