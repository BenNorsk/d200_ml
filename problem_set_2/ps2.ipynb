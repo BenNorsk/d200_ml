{
 "cells": [
  {
   "cell_type": "markdown",
   "metadata": {},
   "source": [
    "# Problem Set 2\n",
    "D200, ML in Economics\n",
    "Benjamin L. Brückner"
   ]
  },
  {
   "cell_type": "code",
   "execution_count": 21,
   "metadata": {},
   "outputs": [],
   "source": [
    "# 0. Load packages\n",
    "from choice_learn.datasets import load_expedia\n",
    "import numpy as np\n",
    "import pandas as pd"
   ]
  },
  {
   "cell_type": "markdown",
   "metadata": {},
   "source": [
    "### 1. Problem\n",
    "\n",
    "- **1.a.** Reading up if necessary, provide a brief explanation of the Conditional Logit model and\n",
    "its use in discrete choice modeling.\n",
    "\n",
    "\n",
    "*Answer.*\n",
    "\n",
    "In a conditional logit model, a number ($J$) of different options are given, each yielding a utility ($U_{j}$):\n",
    "\n",
    "$$\n",
    "U_{i,j} = X_{i,j}\\beta + \\epsilon_{i,j}\n",
    "$$\n",
    "\n",
    "where $X$ is a vector of unobserved characteristics and $\\beta$ their contribution to the utility ($U$). The goal of the conditional logit model is to choose the alternative yielding the highest utility.\n",
    "\n",
    "$$\n",
    "y = arg.max_{j \\in J}  U_{i,j}\n",
    "$$\n",
    "\n",
    "The resulting probability for choosing a given option is given as:\n",
    "\n",
    "$$\n",
    "P(y_{i} = j) = \\frac{exp(X_{i,j}\\beta)}{\\sum_{k=1}^{J}exp(X_{i,k}\\beta)}\n",
    "$$\n",
    "\n",
    "Interestingly, the probability of choosing a given alternative is independent of irrelevant alternatives. The conditional logit model thus helps us model which discrete choice maximises one's utility based on its underlying contributing factors ($X$).\n",
    "\n",
    "\n"
   ]
  },
  {
   "cell_type": "markdown",
   "metadata": {},
   "source": [
    "**1.b.** \n",
    "- Load the Expedia dataset using choice_learn.datasets.load_expedia(preprocessing=\"rumnet\").\n"
   ]
  },
  {
   "cell_type": "code",
   "execution_count": null,
   "metadata": {},
   "outputs": [
    {
     "name": "stdout",
     "output_type": "stream",
     "text": [
      "         srch_id            date_time  site_id  visitor_location_country_id  \\\n",
      "0              1  2013-04-04 08:32:15       12                          187   \n",
      "1              1  2013-04-04 08:32:15       12                          187   \n",
      "2              1  2013-04-04 08:32:15       12                          187   \n",
      "3              1  2013-04-04 08:32:15       12                          187   \n",
      "4              1  2013-04-04 08:32:15       12                          187   \n",
      "...          ...                  ...      ...                          ...   \n",
      "9917525   665574  2013-05-21 11:06:37       24                          216   \n",
      "9917526   665574  2013-05-21 11:06:37       24                          216   \n",
      "9917527   665574  2013-05-21 11:06:37       24                          216   \n",
      "9917528   665574  2013-05-21 11:06:37       24                          216   \n",
      "9917529   665574  2013-05-21 11:06:37       24                          216   \n",
      "\n",
      "         visitor_hist_starrating  visitor_hist_adr_usd  prop_country_id  \\\n",
      "0                            NaN                   NaN              219   \n",
      "1                            NaN                   NaN              219   \n",
      "2                            NaN                   NaN              219   \n",
      "3                            NaN                   NaN              219   \n",
      "4                            NaN                   NaN              219   \n",
      "...                          ...                   ...              ...   \n",
      "9917525                      NaN                   NaN              117   \n",
      "9917526                      NaN                   NaN              117   \n",
      "9917527                      NaN                   NaN              117   \n",
      "9917528                      NaN                   NaN              117   \n",
      "9917529                      NaN                   NaN              117   \n",
      "\n",
      "         prop_id  prop_starrating  prop_review_score  ...  \\\n",
      "0            893                3                3.5  ...   \n",
      "1          10404                4                4.0  ...   \n",
      "2          21315                3                4.5  ...   \n",
      "3          27348                2                4.0  ...   \n",
      "4          29604                4                3.5  ...   \n",
      "...          ...              ...                ...  ...   \n",
      "9917525    32019                4                3.5  ...   \n",
      "9917526    33959                4                3.0  ...   \n",
      "9917527    35240                4                0.0  ...   \n",
      "9917528    94437                4                0.0  ...   \n",
      "9917529    99509                4                4.5  ...   \n",
      "\n",
      "         comp6_rate_percent_diff  comp7_rate  comp7_inv  \\\n",
      "0                            NaN         NaN        NaN   \n",
      "1                            NaN         NaN        NaN   \n",
      "2                            NaN         NaN        NaN   \n",
      "3                            NaN         NaN        NaN   \n",
      "4                            NaN         NaN        NaN   \n",
      "...                          ...         ...        ...   \n",
      "9917525                      NaN         NaN        NaN   \n",
      "9917526                      NaN         NaN        NaN   \n",
      "9917527                      NaN         NaN        NaN   \n",
      "9917528                      NaN         NaN        NaN   \n",
      "9917529                      NaN         NaN        NaN   \n",
      "\n",
      "         comp7_rate_percent_diff  comp8_rate  comp8_inv  \\\n",
      "0                            NaN         0.0        0.0   \n",
      "1                            NaN         0.0        0.0   \n",
      "2                            NaN         0.0        0.0   \n",
      "3                            NaN        -1.0        0.0   \n",
      "4                            NaN         0.0        0.0   \n",
      "...                          ...         ...        ...   \n",
      "9917525                      NaN         NaN        NaN   \n",
      "9917526                      NaN         NaN        NaN   \n",
      "9917527                      NaN         NaN        NaN   \n",
      "9917528                      NaN         NaN        NaN   \n",
      "9917529                      NaN         NaN        NaN   \n",
      "\n",
      "         comp8_rate_percent_diff  click_bool  gross_bookings_usd  booking_bool  \n",
      "0                            NaN           0                 NaN             0  \n",
      "1                            NaN           0                 NaN             0  \n",
      "2                            NaN           0                 NaN             0  \n",
      "3                            5.0           0                 NaN             0  \n",
      "4                            NaN           0                 NaN             0  \n",
      "...                          ...         ...                 ...           ...  \n",
      "9917525                      NaN           0                 NaN             0  \n",
      "9917526                      NaN           1              154.34             1  \n",
      "9917527                      NaN           0                 NaN             0  \n",
      "9917528                      NaN           0                 NaN             0  \n",
      "9917529                      NaN           0                 NaN             0  \n",
      "\n",
      "[9917530 rows x 54 columns]\n"
     ]
    }
   ],
   "source": [
    "df = pd.read_csv(\"expedia.csv\") # I had to improvise here, as load_expedia() was not working\n",
    "print(df)"
   ]
  },
  {
   "cell_type": "code",
   "execution_count": 25,
   "metadata": {},
   "outputs": [
    {
     "name": "stdout",
     "output_type": "stream",
     "text": [
      "      site_id  price_usd  prop_starrating  prop_review_score  prop_brand_bool  \\\n",
      "0          12     104.77                3                3.5                1   \n",
      "1          12     170.74                4                4.0                1   \n",
      "2          12     179.80                3                4.5                1   \n",
      "3          12     602.77                2                4.0                1   \n",
      "4          12     143.58                4                3.5                1   \n",
      "...       ...        ...              ...                ...              ...   \n",
      "4995        5     124.00                4                4.5                0   \n",
      "4996        5      52.00                3                3.5                0   \n",
      "4997        5      79.00                3                4.5                0   \n",
      "4998        5     102.00                3                4.5                1   \n",
      "4999        5      89.00                4                4.0                1   \n",
      "\n",
      "      prop_location_score1  \n",
      "0                     2.83  \n",
      "1                     2.20  \n",
      "2                     2.20  \n",
      "3                     2.83  \n",
      "4                     2.64  \n",
      "...                    ...  \n",
      "4995                  2.20  \n",
      "4996                  3.58  \n",
      "4997                  3.53  \n",
      "4998                  2.71  \n",
      "4999                  2.94  \n",
      "\n",
      "[5000 rows x 6 columns]\n"
     ]
    }
   ],
   "source": [
    "# Select the first 5000 rows\n",
    "df = df.iloc[:5000]\n",
    "\n",
    "# Select the columns we want to use\n",
    "columns = [\n",
    "    \"site_id\",\n",
    "    \"price_usd\",\n",
    "    \"prop_starrating\",\n",
    "    \"prop_review_score\",\n",
    "    \"prop_brand_bool\",\n",
    "    \"prop_location_score1\"\n",
    "]\n",
    "\n",
    "# Select the columns\n",
    "df = df[columns]\n",
    "\n",
    "print(df)"
   ]
  }
 ],
 "metadata": {
  "kernelspec": {
   "display_name": "d200",
   "language": "python",
   "name": "python3"
  },
  "language_info": {
   "codemirror_mode": {
    "name": "ipython",
    "version": 3
   },
   "file_extension": ".py",
   "mimetype": "text/x-python",
   "name": "python",
   "nbconvert_exporter": "python",
   "pygments_lexer": "ipython3",
   "version": "3.13.2"
  }
 },
 "nbformat": 4,
 "nbformat_minor": 2
}
